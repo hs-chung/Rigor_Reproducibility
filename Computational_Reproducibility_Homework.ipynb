{
  "nbformat": 4,
  "nbformat_minor": 0,
  "metadata": {
    "colab": {
      "provenance": [],
      "authorship_tag": "ABX9TyNb/DZ7wXG4GYkrmF1OferS",
      "include_colab_link": true
    },
    "kernelspec": {
      "name": "python3",
      "display_name": "Python 3"
    },
    "language_info": {
      "name": "python"
    }
  },
  "cells": [
    {
      "cell_type": "markdown",
      "metadata": {
        "id": "view-in-github",
        "colab_type": "text"
      },
      "source": [
        "<a href=\"https://colab.research.google.com/github/hs-chung/Rigor_Reproducibility/blob/main/Computational_Reproducibility_Homework.ipynb\" target=\"_parent\"><img src=\"https://colab.research.google.com/assets/colab-badge.svg\" alt=\"Open In Colab\"/></a>"
      ]
    },
    {
      "cell_type": "code",
      "execution_count": null,
      "metadata": {
        "id": "zMquivOzbggk"
      },
      "outputs": [],
      "source": [
        "11/1/2023"
      ]
    },
    {
      "cell_type": "code",
      "source": [
        "2*5"
      ],
      "metadata": {
        "colab": {
          "base_uri": "https://localhost:8080/"
        },
        "id": "T49AqKK1cWsD",
        "outputId": "678d331b-b932-4bba-8ef9-384735240862"
      },
      "execution_count": null,
      "outputs": [
        {
          "output_type": "execute_result",
          "data": {
            "text/plain": [
              "10"
            ]
          },
          "metadata": {},
          "execution_count": 1
        }
      ]
    },
    {
      "cell_type": "markdown",
      "source": [
        "Using repositories like those in GitHub can help with computational reproducibility because it allows you to share your data and analysis with others easily. Since others will have access to your data and the code you used to analyze it, they can try to analyze the data following your code and reproduce the results you found. Tracking changes and publishing code used for analysis also promotes reproducibility because it shows multiple versions of your analysis and gives you the opportunity to explain why certain changes were made for each version. In addition, if incorrect changes were made, there is always a back-up previous version of the file that you can refer to. Furthermore, publishing code with comments on your workflow help elaborate on the details of why you wrote your code in a certain way, which helps others better understand your workflow and increase computational reproducibility.\n"
      ],
      "metadata": {
        "id": "aX8Lu0Qwcapk"
      }
    }
  ]
}