{
  "nbformat": 4,
  "nbformat_minor": 0,
  "metadata": {
    "colab": {
      "provenance": [],
      "authorship_tag": "ABX9TyNBz3kx8Ey0dO1zb0YqDLMX",
      "include_colab_link": true
    },
    "kernelspec": {
      "name": "python3",
      "display_name": "Python 3"
    },
    "language_info": {
      "name": "python"
    }
  },
  "cells": [
    {
      "cell_type": "markdown",
      "metadata": {
        "id": "view-in-github",
        "colab_type": "text"
      },
      "source": [
        "<a href=\"https://colab.research.google.com/github/hs-chung/Rigor_Reproducibility/blob/main/Computational_Reproducibility_Homework.ipynb\" target=\"_parent\"><img src=\"https://colab.research.google.com/assets/colab-badge.svg\" alt=\"Open In Colab\"/></a>"
      ]
    },
    {
      "cell_type": "code",
      "execution_count": null,
      "metadata": {
        "id": "zMquivOzbggk"
      },
      "outputs": [],
      "source": [
        "11/1/2023"
      ]
    },
    {
      "cell_type": "code",
      "source": [
        "2*5"
      ],
      "metadata": {
        "colab": {
          "base_uri": "https://localhost:8080/"
        },
        "id": "T49AqKK1cWsD",
        "outputId": "678d331b-b932-4bba-8ef9-384735240862"
      },
      "execution_count": null,
      "outputs": [
        {
          "output_type": "execute_result",
          "data": {
            "text/plain": [
              "10"
            ]
          },
          "metadata": {},
          "execution_count": 1
        }
      ]
    },
    {
      "cell_type": "markdown",
      "source": [
        "Using repositories like those in GitHub can help with computational reproducibility because it allows you to share your data and analysis with others. Tracking changes and publishing code used for analysis also promotes reproducibility because comments can be added to why certain codes were used, and version control can help clarify how a certain code for analysis was developed.\n"
      ],
      "metadata": {
        "id": "aX8Lu0Qwcapk"
      }
    }
  ]
}